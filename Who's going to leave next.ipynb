{
 "cells": [
  {
   "cell_type": "code",
   "execution_count": 53,
   "metadata": {},
   "outputs": [],
   "source": [
    "import pandas as pd\n",
    "import numpy as np\n",
    "import matplotlib.pyplot as plt\n",
    "import seaborn as sns \n",
    "\n",
    "\n",
    "from random import sample\n",
    "\n",
    "from sklearn.preprocessing import StandardScaler\n",
    "from sklearn.model_selection import train_test_split \n",
    "\n",
    "from sklearn.linear_model import LogisticRegression \n",
    "from sklearn.ensemble import RandomForestClassifier \n",
    "from sklearn.cross_validation import cross_val_score \n",
    "from sklearn import metrics \n",
    "\n",
    "\n",
    "%matplotlib inline\n",
    "\n",
    "random_state = 42"
   ]
  },
  {
   "cell_type": "code",
   "execution_count": 16,
   "metadata": {},
   "outputs": [],
   "source": [
    "# Read in the data \n",
    "df = pd.read_csv('employee_retention.csv', index_col=0) \n",
    "# if there is no header, then set header = None \n",
    "# index_col = 0 drop the first column "
   ]
  },
  {
   "cell_type": "code",
   "execution_count": 17,
   "metadata": {
    "scrolled": false
   },
   "outputs": [
    {
     "data": {
      "text/html": [
       "<div>\n",
       "<style scoped>\n",
       "    .dataframe tbody tr th:only-of-type {\n",
       "        vertical-align: middle;\n",
       "    }\n",
       "\n",
       "    .dataframe tbody tr th {\n",
       "        vertical-align: top;\n",
       "    }\n",
       "\n",
       "    .dataframe thead th {\n",
       "        text-align: right;\n",
       "    }\n",
       "</style>\n",
       "<table border=\"1\" class=\"dataframe\">\n",
       "  <thead>\n",
       "    <tr style=\"text-align: right;\">\n",
       "      <th></th>\n",
       "      <th>employee_id</th>\n",
       "      <th>company_id</th>\n",
       "      <th>dept</th>\n",
       "      <th>seniority</th>\n",
       "      <th>salary</th>\n",
       "      <th>join_date</th>\n",
       "      <th>quit_date</th>\n",
       "    </tr>\n",
       "  </thead>\n",
       "  <tbody>\n",
       "    <tr>\n",
       "      <th>0</th>\n",
       "      <td>1001444.0</td>\n",
       "      <td>8</td>\n",
       "      <td>temp_contractor</td>\n",
       "      <td>0</td>\n",
       "      <td>5850.0</td>\n",
       "      <td>2008-01-26</td>\n",
       "      <td>2008-04-25</td>\n",
       "    </tr>\n",
       "    <tr>\n",
       "      <th>1</th>\n",
       "      <td>388804.0</td>\n",
       "      <td>8</td>\n",
       "      <td>design</td>\n",
       "      <td>21</td>\n",
       "      <td>191000.0</td>\n",
       "      <td>05.17.2011</td>\n",
       "      <td>2012-03-16</td>\n",
       "    </tr>\n",
       "    <tr>\n",
       "      <th>2</th>\n",
       "      <td>407990.0</td>\n",
       "      <td>3</td>\n",
       "      <td>design</td>\n",
       "      <td>9</td>\n",
       "      <td>90000.0</td>\n",
       "      <td>2012-03-26</td>\n",
       "      <td>2015-04-10</td>\n",
       "    </tr>\n",
       "    <tr>\n",
       "      <th>3</th>\n",
       "      <td>120657.0</td>\n",
       "      <td>2</td>\n",
       "      <td>engineer</td>\n",
       "      <td>20</td>\n",
       "      <td>298000.0</td>\n",
       "      <td>2013-04-08</td>\n",
       "      <td>2015-01-30</td>\n",
       "    </tr>\n",
       "    <tr>\n",
       "      <th>4</th>\n",
       "      <td>1006393.0</td>\n",
       "      <td>1</td>\n",
       "      <td>temp_contractor</td>\n",
       "      <td>0</td>\n",
       "      <td>8509.0</td>\n",
       "      <td>2008-07-20</td>\n",
       "      <td>2008-10-18</td>\n",
       "    </tr>\n",
       "  </tbody>\n",
       "</table>\n",
       "</div>"
      ],
      "text/plain": [
       "   employee_id  company_id             dept  seniority    salary   join_date  \\\n",
       "0    1001444.0           8  temp_contractor          0    5850.0  2008-01-26   \n",
       "1     388804.0           8           design         21  191000.0  05.17.2011   \n",
       "2     407990.0           3           design          9   90000.0  2012-03-26   \n",
       "3     120657.0           2         engineer         20  298000.0  2013-04-08   \n",
       "4    1006393.0           1  temp_contractor          0    8509.0  2008-07-20   \n",
       "\n",
       "    quit_date  \n",
       "0  2008-04-25  \n",
       "1  2012-03-16  \n",
       "2  2015-04-10  \n",
       "3  2015-01-30  \n",
       "4  2008-10-18  "
      ]
     },
     "execution_count": 17,
     "metadata": {},
     "output_type": "execute_result"
    }
   ],
   "source": [
    "df.head()"
   ]
  },
  {
   "cell_type": "code",
   "execution_count": 72,
   "metadata": {},
   "outputs": [
    {
     "name": "stdout",
     "output_type": "stream",
     "text": [
      "Empty DataFrame\n",
      "Columns: [employee_id, company_id, dept, seniority, salary, join_date, quit_date, status]\n",
      "Index: []\n"
     ]
    }
   ],
   "source": [
    "print(df[df.duplicated(subset=['employee_id'])])\n",
    "#if there is duplicates, keep the first and drop the rest \n",
    "df.drop_duplicates(subset=['employee_id'],keep='first',inplace=True)"
   ]
  },
  {
   "cell_type": "code",
   "execution_count": 4,
   "metadata": {},
   "outputs": [],
   "source": [
    "#df.drop(columns = df.columns[0], inplace=True)"
   ]
  },
  {
   "cell_type": "code",
   "execution_count": 73,
   "metadata": {
    "scrolled": false
   },
   "outputs": [
    {
     "name": "stdout",
     "output_type": "stream",
     "text": [
      "<class 'pandas.core.frame.DataFrame'>\n",
      "Int64Index: 24461 entries, 1 to 34701\n",
      "Data columns (total 8 columns):\n",
      "employee_id    24461 non-null int64\n",
      "company_id     24461 non-null int64\n",
      "dept           24461 non-null category\n",
      "seniority      24461 non-null int64\n",
      "salary         24461 non-null float64\n",
      "join_date      24461 non-null datetime64[ns]\n",
      "quit_date      13377 non-null datetime64[ns]\n",
      "status         24461 non-null int64\n",
      "dtypes: category(1), datetime64[ns](2), float64(1), int64(4)\n",
      "memory usage: 1.5 MB\n"
     ]
    }
   ],
   "source": [
    "df.info() # for viewing the datatype "
   ]
  },
  {
   "cell_type": "code",
   "execution_count": 74,
   "metadata": {},
   "outputs": [],
   "source": [
    "# Fix the datatype\n",
    "df['employee_id'] = df.employee_id.astype(int)\n",
    "df['dept'] = df.dept.astype('category')"
   ]
  },
  {
   "cell_type": "code",
   "execution_count": 75,
   "metadata": {},
   "outputs": [
    {
     "data": {
      "text/html": [
       "<div>\n",
       "<style scoped>\n",
       "    .dataframe tbody tr th:only-of-type {\n",
       "        vertical-align: middle;\n",
       "    }\n",
       "\n",
       "    .dataframe tbody tr th {\n",
       "        vertical-align: top;\n",
       "    }\n",
       "\n",
       "    .dataframe thead th {\n",
       "        text-align: right;\n",
       "    }\n",
       "</style>\n",
       "<table border=\"1\" class=\"dataframe\">\n",
       "  <thead>\n",
       "    <tr style=\"text-align: right;\">\n",
       "      <th></th>\n",
       "      <th>employee_id</th>\n",
       "      <th>company_id</th>\n",
       "      <th>seniority</th>\n",
       "      <th>salary</th>\n",
       "      <th>status</th>\n",
       "    </tr>\n",
       "  </thead>\n",
       "  <tbody>\n",
       "    <tr>\n",
       "      <th>count</th>\n",
       "      <td>24461.000000</td>\n",
       "      <td>24461.000000</td>\n",
       "      <td>24461.000000</td>\n",
       "      <td>24461.000000</td>\n",
       "      <td>24461.000000</td>\n",
       "    </tr>\n",
       "    <tr>\n",
       "      <th>mean</th>\n",
       "      <td>501641.147745</td>\n",
       "      <td>3.425862</td>\n",
       "      <td>14.125220</td>\n",
       "      <td>138195.862802</td>\n",
       "      <td>0.546871</td>\n",
       "    </tr>\n",
       "    <tr>\n",
       "      <th>std</th>\n",
       "      <td>288911.204749</td>\n",
       "      <td>2.699708</td>\n",
       "      <td>8.055002</td>\n",
       "      <td>76058.515210</td>\n",
       "      <td>0.497808</td>\n",
       "    </tr>\n",
       "    <tr>\n",
       "      <th>min</th>\n",
       "      <td>36.000000</td>\n",
       "      <td>1.000000</td>\n",
       "      <td>1.000000</td>\n",
       "      <td>17000.000000</td>\n",
       "      <td>0.000000</td>\n",
       "    </tr>\n",
       "    <tr>\n",
       "      <th>25%</th>\n",
       "      <td>250315.000000</td>\n",
       "      <td>1.000000</td>\n",
       "      <td>7.000000</td>\n",
       "      <td>79000.000000</td>\n",
       "      <td>0.000000</td>\n",
       "    </tr>\n",
       "    <tr>\n",
       "      <th>50%</th>\n",
       "      <td>501134.000000</td>\n",
       "      <td>2.000000</td>\n",
       "      <td>14.000000</td>\n",
       "      <td>123000.000000</td>\n",
       "      <td>1.000000</td>\n",
       "    </tr>\n",
       "    <tr>\n",
       "      <th>75%</th>\n",
       "      <td>753061.000000</td>\n",
       "      <td>5.000000</td>\n",
       "      <td>21.000000</td>\n",
       "      <td>187000.000000</td>\n",
       "      <td>1.000000</td>\n",
       "    </tr>\n",
       "    <tr>\n",
       "      <th>max</th>\n",
       "      <td>999969.000000</td>\n",
       "      <td>12.000000</td>\n",
       "      <td>29.000000</td>\n",
       "      <td>408000.000000</td>\n",
       "      <td>1.000000</td>\n",
       "    </tr>\n",
       "  </tbody>\n",
       "</table>\n",
       "</div>"
      ],
      "text/plain": [
       "         employee_id    company_id     seniority         salary        status\n",
       "count   24461.000000  24461.000000  24461.000000   24461.000000  24461.000000\n",
       "mean   501641.147745      3.425862     14.125220  138195.862802      0.546871\n",
       "std    288911.204749      2.699708      8.055002   76058.515210      0.497808\n",
       "min        36.000000      1.000000      1.000000   17000.000000      0.000000\n",
       "25%    250315.000000      1.000000      7.000000   79000.000000      0.000000\n",
       "50%    501134.000000      2.000000     14.000000  123000.000000      1.000000\n",
       "75%    753061.000000      5.000000     21.000000  187000.000000      1.000000\n",
       "max    999969.000000     12.000000     29.000000  408000.000000      1.000000"
      ]
     },
     "execution_count": 75,
     "metadata": {},
     "output_type": "execute_result"
    }
   ],
   "source": [
    "df.describe() # descriptive statistics "
   ]
  },
  {
   "cell_type": "code",
   "execution_count": 76,
   "metadata": {},
   "outputs": [
    {
     "data": {
      "text/plain": [
       "<matplotlib.axes._subplots.AxesSubplot at 0x1a2323c438>"
      ]
     },
     "execution_count": 76,
     "metadata": {},
     "output_type": "execute_result"
    },
    {
     "data": {
      "image/png": "[encoded data removed]",
      "text/plain": [
       "<Figure size 1800x720 with 2 Axes>"
      ]
     },
     "metadata": {},
     "output_type": "display_data"
    }
   ],
   "source": [
    "import missingno \n",
    "missingno.matrix(df)"
   ]
  },
  {
   "cell_type": "code",
   "execution_count": 19,
   "metadata": {
    "scrolled": true
   },
   "outputs": [
    {
     "data": {
      "text/plain": [
       "employee_id        0\n",
       "company_id         0\n",
       "dept               0\n",
       "seniority          0\n",
       "salary           239\n",
       "join_date          0\n",
       "quit_date      11192\n",
       "dtype: int64"
      ]
     },
     "execution_count": 19,
     "metadata": {},
     "output_type": "execute_result"
    }
   ],
   "source": [
    "# count how many missing values for each variable\n",
    "df.apply(lambda x: sum(x.isnull()), axis=0)"
   ]
  },
  {
   "cell_type": "code",
   "execution_count": 80,
   "metadata": {},
   "outputs": [],
   "source": [
    "df.dropna(axis=0,subset=['salary'],inplace=True) \n",
    "#axis = 0 indicating droping on the row\n",
    "# or df = df.dropna(subset=['salary'])"
   ]
  },
  {
   "cell_type": "code",
   "execution_count": 20,
   "metadata": {},
   "outputs": [
    {
     "name": "stdout",
     "output_type": "stream",
     "text": [
      "[temp_contractor, design, engineer, marketing, customer_service, data_science, sales]\n",
      "Categories (7, object): [temp_contractor, design, engineer, marketing, customer_service, data_science, sales]\n"
     ]
    }
   ],
   "source": [
    "# sanity checks on the data\n",
    "print(df['dept'].unique())\n",
    "# this all seems to be in order - maybe make a distribution to see how things look\n",
    "df = df[df['dept']!='temp_contractor']\n",
    "\n",
    "\n",
    "# drop salaries that are missing (just a few) and also drop the impossibly high seniorities. \n",
    "df = df[df['seniority'] < 95]"
   ]
  },
  {
   "cell_type": "code",
   "execution_count": 21,
   "metadata": {},
   "outputs": [],
   "source": [
    "# encode dept categories \n",
    "dept_cat = {'design': 1, 'engineer': 2, 'marketing': 3, 'customer_service': 4, \n",
    "            'data_science':5, 'sales':6}\n",
    "df['dept'].replace(dept_cat, inplace=True)"
   ]
  },
  {
   "cell_type": "code",
   "execution_count": 22,
   "metadata": {
    "scrolled": true
   },
   "outputs": [],
   "source": [
    "# fix the datetimes - recast the 05.08.2014 etc as standard 2014-08-05\n",
    "df['join_date'] = df['join_date'].str.replace('.', '-')\n",
    "df['join_date'] = pd.to_datetime(df['join_date'])\n",
    "\n",
    "df['quit_date'] = df['quit_date'].str.replace('.', '-')\n",
    "df['quit_date'] = pd.to_datetime(df['quit_date'])"
   ]
  },
  {
   "cell_type": "code",
   "execution_count": 13,
   "metadata": {},
   "outputs": [
    {
     "name": "stdout",
     "output_type": "stream",
     "text": [
      "minimum date 2007-01-01 00:00:00\n",
      "maximum date 2015-12-10 00:00:00\n"
     ]
    }
   ],
   "source": [
    "print('minimum date', df['join_date'].min())\n",
    "print('maximum date', df['join_date'].max())"
   ]
  },
  {
   "cell_type": "code",
   "execution_count": 23,
   "metadata": {},
   "outputs": [],
   "source": [
    "df = df[df['join_date']>=pd.to_datetime('2011/01/04')]\n",
    "df = df[df['join_date']<=pd.to_datetime('2015/12/23')]"
   ]
  },
  {
   "cell_type": "code",
   "execution_count": 24,
   "metadata": {},
   "outputs": [],
   "source": [
    "df.loc[df['quit_date'].isnull(), 'status'] = 0\n",
    "df.loc[df['quit_date'].notnull(), 'status'] = 1"
   ]
  },
  {
   "cell_type": "code",
   "execution_count": 25,
   "metadata": {},
   "outputs": [],
   "source": [
    "df['status'] = df.status.astype(int)"
   ]
  },
  {
   "cell_type": "code",
   "execution_count": 26,
   "metadata": {},
   "outputs": [
    {
     "data": {
      "text/plain": [
       "<matplotlib.axes._subplots.AxesSubplot at 0x1a12fb0da0>"
      ]
     },
     "execution_count": 26,
     "metadata": {},
     "output_type": "execute_result"
    },
    {
     "data": {
      "image/png": "[encoded data removed]",
      "text/plain": [
       "<Figure size 720x720 with 2 Axes>"
      ]
     },
     "metadata": {},
     "output_type": "display_data"
    }
   ],
   "source": [
    "# Check for correlations in the data\n",
    "correlation = df.corr()\n",
    "plt.figure(figsize=(10,10))\n",
    "sns.heatmap(correlation, vmax=1, square=True, annot=True, cmap='cubehelix')"
   ]
  },
  {
   "cell_type": "code",
   "execution_count": 27,
   "metadata": {},
   "outputs": [
    {
     "data": {
      "image/png": "[encoded data removed]",
      "text/plain": [
       "<Figure size 402.375x360 with 6 Axes>"
      ]
     },
     "metadata": {},
     "output_type": "display_data"
    }
   ],
   "source": [
    "# take a 5% sample as this is computationally expensive \n",
    "df_sample = df.sample(frac=0.05)\n",
    "# pairwise plots \n",
    "pplot = sns.pairplot(df_sample, vars=[\"seniority\", \"salary\"], hue = \"status\")"
   ]
  },
  {
   "cell_type": "markdown",
   "metadata": {},
   "source": [
    "#### This is not used in this dataset but worth knowing skills \n",
    "\n",
    "Salary has 3 values low, medium and high. These factor variables have an order. I'm going to go use dummy encoding as a simple and common method to handle factor variables. The downsides to this is I am not handling the ordering and will introduce extra dimensions to the data (see Curse of dimensionality for why this is bad). Helmert, Forward/Backward differencing or Orthogonal encoding would probably be better.\n",
    "\n",
    ">>> df.salary.unique()\n",
    "\n",
    "#array(['low', 'medium', 'high'], dtype=object)  \n",
    ">>> df.sales.unique()\n",
    "#array(['sales', 'accounting', 'hr', 'technical', 'support', 'management', 'IT', 'product_mng', 'marketing', 'RandD'], dtype=object) \n",
    "\n",
    "\n",
    "# Dummy Encoding\n",
    "Dummy encoding, or one hot encoding, transforms categorical variables into a series of binary columns. Before I one hot encode the sales and salary I prepend the column names to the categories, that way I know later which column each new column came from. This helps particularly in cases where the columns use the same category names e.g. 'high' could apply to sales and salary.\n",
    "\n",
    "#Prepend string prior to encoding\n",
    "# df['salary'] = '$_' + df['salary'].astype(str)  \n",
    "# df['sales'] = 'sales_' + df['sales'].astype(str)\n",
    "\n",
    "#Create 'salary' dummies and join\n",
    "# one_hot_salary = pd.get_dummies(df['salary'])  \n",
    "# df = df.join(one_hot_salary)\n",
    "\n",
    "#Create 'sales' dummies and join\n",
    "# one_hot_sales = pd.get_dummies(df['sales'])  \n",
    "# df = df.join(one_hot_sales) \n",
    "\n",
    "\n",
    "#If we proceeded to modelling without dropping columns, we would run into the dummy variable trap. To illustrate what the dummy variable trap is, let's say that our data has a column for Gender in the form ['male','female','male','female'...]. If we use pd.get_dummies()\n",
    "\n",
    "\n",
    "#Generate 'Gender' variable\n",
    "# Gender = np.random.choice(['male','female'], 4)  \n",
    "#Create DataFrame\n",
    "# df1 = pd.DataFrame(Gender, columns=['Gender'])  \n",
    "#One hot encode Gender\n",
    "# dummies = pd.get_dummies(df1['Gender'])  \n",
    "#Join dummies to 'df1'\n",
    "# df1 = df1.join(dummies)  \n",
    "#print df1  \n",
    "   Gender  female  male\n",
    "0    male       0     1  \n",
    "1  female       1     0  \n",
    "2    male       0     1  \n",
    "3  female       1     0  \n",
    "\n",
    "We can see that the dummy columns of female and male reflect the Gender column, a row with column Gender='male' has female=0 and male=1. In modelling, we are looking for independent variables to predict a dependent outcome. One of our dummy variables is completely dependent on the other (see Multicollinearity). We can naturally drop one of the dummy variables to avoid this trap whilst not losing any valuable information.\n",
    "\n",
    "To avoid the dummy variable trap in the Kaggle HR dataset, I'm dropping the columns, sales_IT and low salary $_low.\n",
    "#Drop unnecessary columns to avoid the dummy variable trap\n",
    "\n",
    "# df = df.drop(['salary', 'sales', '$_low', 'sales_IT'], axis=1) "
   ]
  },
  {
   "cell_type": "markdown",
   "metadata": {},
   "source": [
    "### Split Into Test and Training Sets\n",
    "Now to split the dataset up into our training, testing and optionally our validation sets. This is best done randomly to avoid having one subgroup of the data overrepresented in either our training or testing datasets, hence df.sample()."
   ]
  },
  {
   "cell_type": "code",
   "execution_count": 54,
   "metadata": {},
   "outputs": [],
   "source": [
    "# Randomly, split the data into test/training/validation sets\n",
    "#train, test, validate = np.split(df.sample(frac=1), [int(.6*len(df)), int(.8*len(df))])  \n",
    "#print(train.shape, test.shape, validate.shape)\n",
    "# (8999, 20) (3000, 20) (3000, 20)\n",
    "X = df.drop(['status','join_date','quit_date'], axis=1) \n",
    "y = df['status']\n",
    "x_train, x_test, y_train, y_test = train_test_split(X,y,test_size = 0.33,\n",
    "                                                    random_state=42)"
   ]
  },
  {
   "cell_type": "markdown",
   "metadata": {},
   "source": [
    "# Separate target and predictors\n",
    "y_train = train['status']  \n",
    "x_train = train.drop(['status','join_date','quit_date'], axis=1)  \n",
    "y_test = test['status']  \n",
    "x_test = test.drop(['status','join_date','quit_date'], axis=1)  \n",
    "y_validate = validate['status']  \n",
    "x_validate = validate.drop(['status','join_date','quit_date'], axis=1)"
   ]
  },
  {
   "cell_type": "code",
   "execution_count": 55,
   "metadata": {},
   "outputs": [
    {
     "data": {
      "text/html": [
       "<div>\n",
       "<style scoped>\n",
       "    .dataframe tbody tr th:only-of-type {\n",
       "        vertical-align: middle;\n",
       "    }\n",
       "\n",
       "    .dataframe tbody tr th {\n",
       "        vertical-align: top;\n",
       "    }\n",
       "\n",
       "    .dataframe thead th {\n",
       "        text-align: right;\n",
       "    }\n",
       "</style>\n",
       "<table border=\"1\" class=\"dataframe\">\n",
       "  <thead>\n",
       "    <tr style=\"text-align: right;\">\n",
       "      <th></th>\n",
       "      <th>employee_id</th>\n",
       "      <th>company_id</th>\n",
       "      <th>dept</th>\n",
       "      <th>seniority</th>\n",
       "      <th>salary</th>\n",
       "    </tr>\n",
       "  </thead>\n",
       "  <tbody>\n",
       "    <tr>\n",
       "      <th>34269</th>\n",
       "      <td>68275</td>\n",
       "      <td>2</td>\n",
       "      <td>2</td>\n",
       "      <td>1</td>\n",
       "      <td>70000.0</td>\n",
       "    </tr>\n",
       "    <tr>\n",
       "      <th>12691</th>\n",
       "      <td>741023</td>\n",
       "      <td>6</td>\n",
       "      <td>6</td>\n",
       "      <td>18</td>\n",
       "      <td>178000.0</td>\n",
       "    </tr>\n",
       "    <tr>\n",
       "      <th>22125</th>\n",
       "      <td>724973</td>\n",
       "      <td>3</td>\n",
       "      <td>3</td>\n",
       "      <td>20</td>\n",
       "      <td>181000.0</td>\n",
       "    </tr>\n",
       "    <tr>\n",
       "      <th>10135</th>\n",
       "      <td>460035</td>\n",
       "      <td>5</td>\n",
       "      <td>6</td>\n",
       "      <td>6</td>\n",
       "      <td>112000.0</td>\n",
       "    </tr>\n",
       "    <tr>\n",
       "      <th>14518</th>\n",
       "      <td>811518</td>\n",
       "      <td>3</td>\n",
       "      <td>4</td>\n",
       "      <td>8</td>\n",
       "      <td>64000.0</td>\n",
       "    </tr>\n",
       "  </tbody>\n",
       "</table>\n",
       "</div>"
      ],
      "text/plain": [
       "       employee_id  company_id  dept  seniority    salary\n",
       "34269        68275           2     2          1   70000.0\n",
       "12691       741023           6     6         18  178000.0\n",
       "22125       724973           3     3         20  181000.0\n",
       "10135       460035           5     6          6  112000.0\n",
       "14518       811518           3     4          8   64000.0"
      ]
     },
     "execution_count": 55,
     "metadata": {},
     "output_type": "execute_result"
    }
   ],
   "source": [
    "x_train.head()"
   ]
  },
  {
   "cell_type": "code",
   "execution_count": 56,
   "metadata": {},
   "outputs": [
    {
     "data": {
      "text/plain": [
       "0.5357364053016227"
      ]
     },
     "execution_count": 56,
     "metadata": {},
     "output_type": "execute_result"
    }
   ],
   "source": [
    "# Check the balance of the splits on y_\n",
    "y_test.mean()"
   ]
  },
  {
   "cell_type": "code",
   "execution_count": 57,
   "metadata": {},
   "outputs": [
    {
     "data": {
      "text/plain": [
       "0.55235538198681966"
      ]
     },
     "execution_count": 57,
     "metadata": {},
     "output_type": "execute_result"
    }
   ],
   "source": [
    "y_train.mean()"
   ]
  },
  {
   "cell_type": "markdown",
   "metadata": {},
   "source": [
    "# Feature importance can be ascertained from a random forest, alternatively Principle Components Analysis (PCA) can be used."
   ]
  },
  {
   "cell_type": "code",
   "execution_count": 58,
   "metadata": {},
   "outputs": [
    {
     "name": "stdout",
     "output_type": "stream",
     "text": [
      "Features sorted by their score:\n",
      "[(0.41289999999999999, 'employee_id'), (0.29830000000000001, 'salary'), (0.16569999999999999, 'seniority'), (0.087499999999999994, 'company_id'), (0.0356, 'dept')]\n"
     ]
    }
   ],
   "source": [
    "# Variable importance\n",
    "rf = RandomForestClassifier()  \n",
    "rf.fit(x_train, y_train)  \n",
    "print(\"Features sorted by their score:\")  \n",
    "print(sorted(zip(map(lambda x: round(x, 4), \n",
    "                     rf.feature_importances_), \n",
    "                     x_train), reverse=True))"
   ]
  },
  {
   "cell_type": "code",
   "execution_count": 60,
   "metadata": {},
   "outputs": [],
   "source": [
    "# Variable importance revealed that only the first 4 variables explained \n",
    "# most of the variance. Therefore, only 4 variables are used. \n",
    "# Create variable lists and drop\n",
    "all_vars = x_train.columns.tolist()  \n",
    "top_4_vars = ['employee_id', 'salary', 'seniority', 'company_id']  \n",
    "bottom_vars = [cols for cols in all_vars if cols not in top_4_vars]\n",
    "\n",
    "# Drop less important variables leaving the top_4\n",
    "x_train    = x_train.drop(bottom_vars, axis=1)  \n",
    "x_test     = x_test.drop(bottom_vars, axis=1)  \n",
    "#x_validate = x_validate.drop(bottom_vars, axis=1)  "
   ]
  },
  {
   "cell_type": "code",
   "execution_count": 61,
   "metadata": {},
   "outputs": [
    {
     "data": {
      "text/html": [
       "<div>\n",
       "<style scoped>\n",
       "    .dataframe tbody tr th:only-of-type {\n",
       "        vertical-align: middle;\n",
       "    }\n",
       "\n",
       "    .dataframe tbody tr th {\n",
       "        vertical-align: top;\n",
       "    }\n",
       "\n",
       "    .dataframe thead th {\n",
       "        text-align: right;\n",
       "    }\n",
       "</style>\n",
       "<table border=\"1\" class=\"dataframe\">\n",
       "  <thead>\n",
       "    <tr style=\"text-align: right;\">\n",
       "      <th></th>\n",
       "      <th>employee_id</th>\n",
       "      <th>company_id</th>\n",
       "      <th>seniority</th>\n",
       "      <th>salary</th>\n",
       "    </tr>\n",
       "  </thead>\n",
       "  <tbody>\n",
       "    <tr>\n",
       "      <th>34269</th>\n",
       "      <td>68275</td>\n",
       "      <td>2</td>\n",
       "      <td>1</td>\n",
       "      <td>70000.0</td>\n",
       "    </tr>\n",
       "    <tr>\n",
       "      <th>12691</th>\n",
       "      <td>741023</td>\n",
       "      <td>6</td>\n",
       "      <td>18</td>\n",
       "      <td>178000.0</td>\n",
       "    </tr>\n",
       "    <tr>\n",
       "      <th>22125</th>\n",
       "      <td>724973</td>\n",
       "      <td>3</td>\n",
       "      <td>20</td>\n",
       "      <td>181000.0</td>\n",
       "    </tr>\n",
       "    <tr>\n",
       "      <th>10135</th>\n",
       "      <td>460035</td>\n",
       "      <td>5</td>\n",
       "      <td>6</td>\n",
       "      <td>112000.0</td>\n",
       "    </tr>\n",
       "    <tr>\n",
       "      <th>14518</th>\n",
       "      <td>811518</td>\n",
       "      <td>3</td>\n",
       "      <td>8</td>\n",
       "      <td>64000.0</td>\n",
       "    </tr>\n",
       "  </tbody>\n",
       "</table>\n",
       "</div>"
      ],
      "text/plain": [
       "       employee_id  company_id  seniority    salary\n",
       "34269        68275           2          1   70000.0\n",
       "12691       741023           6         18  178000.0\n",
       "22125       724973           3         20  181000.0\n",
       "10135       460035           5          6  112000.0\n",
       "14518       811518           3          8   64000.0"
      ]
     },
     "execution_count": 61,
     "metadata": {},
     "output_type": "execute_result"
    }
   ],
   "source": [
    "x_train.head()"
   ]
  },
  {
   "cell_type": "code",
   "execution_count": 62,
   "metadata": {},
   "outputs": [],
   "source": [
    "# Feature Scaling\n",
    "from sklearn.preprocessing import StandardScaler\n",
    "scaler = StandardScaler()\n",
    "x_train = scaler.fit_transform(x_train)\n",
    "x_test = scaler.transform(x_test)"
   ]
  },
  {
   "cell_type": "markdown",
   "metadata": {},
   "source": [
    "# Modeling\n",
    "## 1.logistic regression "
   ]
  },
  {
   "cell_type": "code",
   "execution_count": 63,
   "metadata": {},
   "outputs": [
    {
     "name": "stdout",
     "output_type": "stream",
     "text": [
      "0.538833147529\n"
     ]
    }
   ],
   "source": [
    "# Instantiate\n",
    "logit_model = LogisticRegression()  \n",
    "# Fit\n",
    "logit_model = logit_model.fit(x_train, y_train)  \n",
    "# How accurate?\n",
    "logit_model.score(x_train, y_train)  \n",
    "#0.7874\n",
    "\n",
    "# Predictions on the test dataset\n",
    "predicted = pd.DataFrame(logit_model.predict(x_test))  \n",
    "# Probabilities on the test dataset\n",
    "probs = pd.DataFrame(logit_model.predict_proba(x_test))  \n",
    "print(metrics.accuracy_score(y_test, predicted)) \n",
    "\n",
    "\n",
    "# How does it perform on the test dataset?\n",
    "logit_accuracy = metrics.accuracy_score(y_test, predicted)  \n",
    "logit_roc_auc = metrics.roc_auc_score(y_test, probs[1])  \n",
    "logit_confus_matrix = metrics.confusion_matrix(y_test, predicted)  \n",
    "logit_classification_report = metrics.classification_report(y_test, predicted)  \n",
    "logit_precision = metrics.precision_score(y_test, predicted, pos_label=1)  \n",
    "logit_recall = metrics.recall_score(y_test, predicted, pos_label=1)  \n",
    "logit_f1 = metrics.f1_score(y_test, predicted, pos_label=1)"
   ]
  },
  {
   "cell_type": "markdown",
   "metadata": {},
   "source": [
    "## Now let's look at the confusion matrix and the metrics we care about."
   ]
  },
  {
   "cell_type": "code",
   "execution_count": null,
   "metadata": {},
   "outputs": [],
   "source": [
    "print(metrics.confusion_matrix(y_test, predicted))"
   ]
  },
  {
   "cell_type": "code",
   "execution_count": null,
   "metadata": {},
   "outputs": [],
   "source": [
    "print(metrics.classification_report(y_test, predicted))"
   ]
  },
  {
   "cell_type": "markdown",
   "metadata": {},
   "source": [
    "## 2. Decision Tree\n",
    "Decision trees are highly interpretable and tend to perform well on classification problems."
   ]
  },
  {
   "cell_type": "markdown",
   "metadata": {},
   "source": [
    "## 3. Random Forest"
   ]
  },
  {
   "cell_type": "code",
   "execution_count": 64,
   "metadata": {},
   "outputs": [],
   "source": [
    "# Instantiate\n",
    "rf = RandomForestClassifier()  \n",
    "# Fit\n",
    "rf_model = rf.fit(x_train, y_train)  \n",
    "# training accuracy 99.74%\n",
    "rf_model.score(x_train, y_train)\n",
    "\n",
    "# Predictions/probs on the test dataset\n",
    "predicted = pd.DataFrame(rf_model.predict(x_test))  \n",
    "probs = pd.DataFrame(rf_model.predict_proba(x_test))\n",
    "\n",
    "# Store metrics\n",
    "rf_accuracy = metrics.accuracy_score(y_test, predicted)  \n",
    "rf_roc_auc = metrics.roc_auc_score(y_test, probs[1])  \n",
    "rf_confus_matrix = metrics.confusion_matrix(y_test, predicted)  \n",
    "rf_classification_report = metrics.classification_report(y_test, predicted)  \n",
    "rf_precision = metrics.precision_score(y_test, predicted, pos_label=1)  \n",
    "rf_recall = metrics.recall_score(y_test, predicted, pos_label=1)  \n",
    "rf_f1 = metrics.f1_score(y_test, predicted, pos_label=1)\n",
    "\n",
    "# Evaluate the model using 10-fold cross-validation\n",
    "rf_cv_scores = cross_val_score(RandomForestClassifier(), x_test, y_test, scoring='precision', cv=10)  \n",
    "rf_cv_mean = np.mean(rf_cv_scores)"
   ]
  },
  {
   "cell_type": "code",
   "execution_count": 65,
   "metadata": {},
   "outputs": [],
   "source": [
    "# Model comparison\n",
    "models = pd.DataFrame({  \n",
    "  'Model': ['Logistic', 'r.f.'],\n",
    "  'Accuracy' : [logit_accuracy, rf_accuracy],\n",
    "  'Precision': [logit_accuracy, rf_accuracy],\n",
    "  'recall' : [logit_accuracy, rf_accuracy],\n",
    "  'F1' : [logit_f1, rf_f1],\n",
    "  'cv_precision' : [logit_accuracy, rf_accuracy]\n",
    "})"
   ]
  },
  {
   "cell_type": "code",
   "execution_count": 66,
   "metadata": {},
   "outputs": [
    {
     "data": {
      "text/html": [
       "<div>\n",
       "<style scoped>\n",
       "    .dataframe tbody tr th:only-of-type {\n",
       "        vertical-align: middle;\n",
       "    }\n",
       "\n",
       "    .dataframe tbody tr th {\n",
       "        vertical-align: top;\n",
       "    }\n",
       "\n",
       "    .dataframe thead th {\n",
       "        text-align: right;\n",
       "    }\n",
       "</style>\n",
       "<table border=\"1\" class=\"dataframe\">\n",
       "  <thead>\n",
       "    <tr style=\"text-align: right;\">\n",
       "      <th></th>\n",
       "      <th>Model</th>\n",
       "      <th>Accuracy</th>\n",
       "      <th>Precision</th>\n",
       "      <th>recall</th>\n",
       "      <th>F1</th>\n",
       "      <th>cv_precision</th>\n",
       "    </tr>\n",
       "  </thead>\n",
       "  <tbody>\n",
       "    <tr>\n",
       "      <th>0</th>\n",
       "      <td>Logistic</td>\n",
       "      <td>0.538833</td>\n",
       "      <td>0.538833</td>\n",
       "      <td>0.538833</td>\n",
       "      <td>0.696404</td>\n",
       "      <td>0.538833</td>\n",
       "    </tr>\n",
       "    <tr>\n",
       "      <th>1</th>\n",
       "      <td>r.f.</td>\n",
       "      <td>0.514802</td>\n",
       "      <td>0.514802</td>\n",
       "      <td>0.514802</td>\n",
       "      <td>0.542994</td>\n",
       "      <td>0.514802</td>\n",
       "    </tr>\n",
       "  </tbody>\n",
       "</table>\n",
       "</div>"
      ],
      "text/plain": [
       "      Model  Accuracy  Precision    recall        F1  cv_precision\n",
       "0  Logistic  0.538833   0.538833  0.538833  0.696404      0.538833\n",
       "1      r.f.  0.514802   0.514802  0.514802  0.542994      0.514802"
      ]
     },
     "execution_count": 66,
     "metadata": {},
     "output_type": "execute_result"
    }
   ],
   "source": [
    "# Print table and sort by test precision\n",
    "models.sort_values(by='Precision', ascending=False)"
   ]
  },
  {
   "cell_type": "markdown",
   "metadata": {},
   "source": [
    "### From the above results table, it is clear the Random Forest is the best model based on Accuracy, Precision and Recall metrics. The performance is so good, that I would be concerned about overfitting and a lack of generalisation to future periods of data. However, the classifier was evaluated with K-folds cross-validation (K=10) and also evaluated on the test dataset.\n",
    "\n",
    "To use the trained model later, it's first best practice to re-train on the entire dataset to get the best trained model. Then save the pickle i.e. serialised model."
   ]
  },
  {
   "cell_type": "code",
   "execution_count": 67,
   "metadata": {},
   "outputs": [
    {
     "data": {
      "text/plain": [
       "['churn_classifier.pkl']"
      ]
     },
     "execution_count": 67,
     "metadata": {},
     "output_type": "execute_result"
    }
   ],
   "source": [
    "# Create x and y from all data\n",
    "y = df['status'] \n",
    "x = df.drop(['status','join_date','quit_date'], axis=1)\n",
    "\n",
    "\n",
    "scaler = StandardScaler()\n",
    "x = scaler.fit_transform(x)\n",
    "\n",
    "\n",
    "# Re-train model on all data\n",
    "rf_model = rf.fit(x, y)\n",
    "\n",
    "# Save model\n",
    "from sklearn.externals import joblib \n",
    "# persist the model \n",
    "joblib.dump(rf_model, 'churn_classifier.pkl')"
   ]
  },
  {
   "cell_type": "code",
   "execution_count": null,
   "metadata": {},
   "outputs": [],
   "source": [
    "logit_model = "
   ]
  }
 ],
 "metadata": {
  "kernelspec": {
   "display_name": "Python [conda env:insight]",
   "language": "python",
   "name": "conda-env-insight-py"
  },
  "language_info": {
   "codemirror_mode": {
    "name": "ipython",
    "version": 3
   },
   "file_extension": ".py",
   "mimetype": "text/x-python",
   "name": "python",
   "nbconvert_exporter": "python",
   "pygments_lexer": "ipython3",
   "version": "3.6.5"
  }
 },
 "nbformat": 4,
 "nbformat_minor": 2
}
